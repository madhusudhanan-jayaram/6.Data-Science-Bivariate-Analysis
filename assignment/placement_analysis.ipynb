{
 "cells": [
  {
   "cell_type": "markdown",
   "id": "618ee885-127d-459e-8604-11f7b89a8df2",
   "metadata": {},
   "source": [
    "## Placement Analysis — SIMPLE NOTEBOOK"
   ]
  },
  {
   "cell_type": "code",
   "execution_count": 1,
   "id": "ef6e8bf1-72c3-4484-904b-8b197230e62c",
   "metadata": {},
   "outputs": [],
   "source": [
    "# ============================================\n",
    "# 🎓 Placement Analysis — Assignment Notebook\n",
    "# ============================================"
   ]
  },
  {
   "cell_type": "code",
   "execution_count": 2,
   "id": "7238f56f-b26f-4b24-82d6-f835ec2adbf0",
   "metadata": {},
   "outputs": [],
   "source": [
    "import pandas as pd\n",
    "import numpy as np\n",
    "from scipy import stats\n",
    "import matplotlib.pyplot as plt"
   ]
  },
  {
   "cell_type": "markdown",
   "id": "e44beebc-5beb-4567-b213-c5126d40dd06",
   "metadata": {},
   "source": [
    "## ---------- 1.1) Load Data ----------"
   ]
  },
  {
   "cell_type": "code",
   "execution_count": 5,
   "id": "6742485c-8990-4221-b3aa-b3544068c02e",
   "metadata": {},
   "outputs": [
    {
     "name": "stdout",
     "output_type": "stream",
     "text": [
      "✅ Dataset Loaded Successfully!\n",
      "Total Rows: 215, Columns: 15\n",
      "\n"
     ]
    }
   ],
   "source": [
    "DATA_PATH = \"PrePlacement.csv\" \n",
    "df = pd.read_csv(DATA_PATH)\n",
    "print(\"✅ Dataset Loaded Successfully!\") \n",
    "print(f\"Total Rows: {len(df)}, Columns: {len(df.columns)}\\n\")"
   ]
  },
  {
   "cell_type": "code",
   "execution_count": 6,
   "id": "e15dc270-b0ae-4eb3-b06d-4f029253f4e0",
   "metadata": {},
   "outputs": [
    {
     "name": "stdout",
     "output_type": "stream",
     "text": [
      "📝 Columns in the dataset:\n",
      "- sl_no\n",
      "- gender\n",
      "- ssc_p\n",
      "- ssc_b\n",
      "- hsc_p\n",
      "- hsc_b\n",
      "- hsc_s\n",
      "- degree_p\n",
      "- degree_t\n",
      "- workex\n",
      "- etest_p\n",
      "- specialisation\n",
      "- mba_p\n",
      "- status\n",
      "- salary\n",
      "\n",
      "🔍 Sample Data (first 5 rows):\n"
     ]
    },
    {
     "data": {
      "text/html": [
       "<div>\n",
       "<style scoped>\n",
       "    .dataframe tbody tr th:only-of-type {\n",
       "        vertical-align: middle;\n",
       "    }\n",
       "\n",
       "    .dataframe tbody tr th {\n",
       "        vertical-align: top;\n",
       "    }\n",
       "\n",
       "    .dataframe thead th {\n",
       "        text-align: right;\n",
       "    }\n",
       "</style>\n",
       "<table border=\"1\" class=\"dataframe\">\n",
       "  <thead>\n",
       "    <tr style=\"text-align: right;\">\n",
       "      <th></th>\n",
       "      <th>sl_no</th>\n",
       "      <th>gender</th>\n",
       "      <th>ssc_p</th>\n",
       "      <th>ssc_b</th>\n",
       "      <th>hsc_p</th>\n",
       "      <th>hsc_b</th>\n",
       "      <th>hsc_s</th>\n",
       "      <th>degree_p</th>\n",
       "      <th>degree_t</th>\n",
       "      <th>workex</th>\n",
       "      <th>etest_p</th>\n",
       "      <th>specialisation</th>\n",
       "      <th>mba_p</th>\n",
       "      <th>status</th>\n",
       "      <th>salary</th>\n",
       "    </tr>\n",
       "  </thead>\n",
       "  <tbody>\n",
       "    <tr>\n",
       "      <th>0</th>\n",
       "      <td>1</td>\n",
       "      <td>M</td>\n",
       "      <td>67.00</td>\n",
       "      <td>Others</td>\n",
       "      <td>91.00</td>\n",
       "      <td>Others</td>\n",
       "      <td>Commerce</td>\n",
       "      <td>58.00</td>\n",
       "      <td>Sci&amp;Tech</td>\n",
       "      <td>No</td>\n",
       "      <td>55.0</td>\n",
       "      <td>Mkt&amp;HR</td>\n",
       "      <td>58.80</td>\n",
       "      <td>Placed</td>\n",
       "      <td>270000.0</td>\n",
       "    </tr>\n",
       "    <tr>\n",
       "      <th>1</th>\n",
       "      <td>2</td>\n",
       "      <td>M</td>\n",
       "      <td>79.33</td>\n",
       "      <td>Central</td>\n",
       "      <td>78.33</td>\n",
       "      <td>Others</td>\n",
       "      <td>Science</td>\n",
       "      <td>77.48</td>\n",
       "      <td>Sci&amp;Tech</td>\n",
       "      <td>Yes</td>\n",
       "      <td>86.5</td>\n",
       "      <td>Mkt&amp;Fin</td>\n",
       "      <td>66.28</td>\n",
       "      <td>Placed</td>\n",
       "      <td>200000.0</td>\n",
       "    </tr>\n",
       "    <tr>\n",
       "      <th>2</th>\n",
       "      <td>3</td>\n",
       "      <td>M</td>\n",
       "      <td>65.00</td>\n",
       "      <td>Central</td>\n",
       "      <td>68.00</td>\n",
       "      <td>Central</td>\n",
       "      <td>Arts</td>\n",
       "      <td>64.00</td>\n",
       "      <td>Comm&amp;Mgmt</td>\n",
       "      <td>No</td>\n",
       "      <td>75.0</td>\n",
       "      <td>Mkt&amp;Fin</td>\n",
       "      <td>57.80</td>\n",
       "      <td>Placed</td>\n",
       "      <td>250000.0</td>\n",
       "    </tr>\n",
       "    <tr>\n",
       "      <th>3</th>\n",
       "      <td>4</td>\n",
       "      <td>M</td>\n",
       "      <td>56.00</td>\n",
       "      <td>Central</td>\n",
       "      <td>52.00</td>\n",
       "      <td>Central</td>\n",
       "      <td>Science</td>\n",
       "      <td>52.00</td>\n",
       "      <td>Sci&amp;Tech</td>\n",
       "      <td>No</td>\n",
       "      <td>66.0</td>\n",
       "      <td>Mkt&amp;HR</td>\n",
       "      <td>59.43</td>\n",
       "      <td>Not Placed</td>\n",
       "      <td>0.0</td>\n",
       "    </tr>\n",
       "    <tr>\n",
       "      <th>4</th>\n",
       "      <td>5</td>\n",
       "      <td>M</td>\n",
       "      <td>85.80</td>\n",
       "      <td>Central</td>\n",
       "      <td>73.60</td>\n",
       "      <td>Central</td>\n",
       "      <td>Commerce</td>\n",
       "      <td>73.30</td>\n",
       "      <td>Comm&amp;Mgmt</td>\n",
       "      <td>No</td>\n",
       "      <td>96.8</td>\n",
       "      <td>Mkt&amp;Fin</td>\n",
       "      <td>55.50</td>\n",
       "      <td>Placed</td>\n",
       "      <td>425000.0</td>\n",
       "    </tr>\n",
       "  </tbody>\n",
       "</table>\n",
       "</div>"
      ],
      "text/plain": [
       "   sl_no gender  ssc_p    ssc_b  hsc_p    hsc_b     hsc_s  degree_p  \\\n",
       "0      1      M  67.00   Others  91.00   Others  Commerce     58.00   \n",
       "1      2      M  79.33  Central  78.33   Others   Science     77.48   \n",
       "2      3      M  65.00  Central  68.00  Central      Arts     64.00   \n",
       "3      4      M  56.00  Central  52.00  Central   Science     52.00   \n",
       "4      5      M  85.80  Central  73.60  Central  Commerce     73.30   \n",
       "\n",
       "    degree_t workex  etest_p specialisation  mba_p      status    salary  \n",
       "0   Sci&Tech     No     55.0         Mkt&HR  58.80      Placed  270000.0  \n",
       "1   Sci&Tech    Yes     86.5        Mkt&Fin  66.28      Placed  200000.0  \n",
       "2  Comm&Mgmt     No     75.0        Mkt&Fin  57.80      Placed  250000.0  \n",
       "3   Sci&Tech     No     66.0         Mkt&HR  59.43  Not Placed       0.0  \n",
       "4  Comm&Mgmt     No     96.8        Mkt&Fin  55.50      Placed  425000.0  "
      ]
     },
     "metadata": {},
     "output_type": "display_data"
    }
   ],
   "source": [
    "# Display column names\n",
    "print(\"📝 Columns in the dataset:\")\n",
    "for col in df.columns:\n",
    "    print(\"-\", col)\n",
    "\n",
    "# Show first 5 rows\n",
    "print(\"\\n🔍 Sample Data (first 5 rows):\")\n",
    "display(df.head())"
   ]
  },
  {
   "cell_type": "markdown",
   "id": "39df2f86-6885-415d-9372-042f8b770b25",
   "metadata": {},
   "source": [
    "## ---------- 1.2 NaN % by column ----------"
   ]
  },
  {
   "cell_type": "code",
   "execution_count": 7,
   "id": "00ce12f9-88f4-4e71-b2d1-9539edc2af20",
   "metadata": {},
   "outputs": [
    {
     "name": "stdout",
     "output_type": "stream",
     "text": [
      "📊 Missing Value Analysis:\n",
      "\n",
      "                Missing  % Missing\n",
      "sl_no                 0        0.0\n",
      "gender                0        0.0\n",
      "ssc_p                 0        0.0\n",
      "ssc_b                 0        0.0\n",
      "hsc_p                 0        0.0\n",
      "hsc_b                 0        0.0\n",
      "hsc_s                 0        0.0\n",
      "degree_p              0        0.0\n",
      "degree_t              0        0.0\n",
      "workex                0        0.0\n",
      "etest_p               0        0.0\n",
      "specialisation        0        0.0\n",
      "mba_p                 0        0.0\n",
      "status                0        0.0\n",
      "salary                0        0.0\n",
      "\n",
      "👉 Observation: All columns have 0% missing → Dataset is clean!\n",
      "\n"
     ]
    }
   ],
   "source": [
    "print(\"📊 Missing Value Analysis:\\n\")\n",
    "nan_table = df.isna().sum().rename(\"Missing\").to_frame()\n",
    "nan_table[\"% Missing\"] = (nan_table[\"Missing\"] / len(df) * 100).round(2)\n",
    "print(nan_table.to_string())\n",
    "print(\"\\n👉 Observation: All columns have 0% missing → Dataset is clean!\\n\")"
   ]
  },
  {
   "cell_type": "code",
   "execution_count": 9,
   "id": "fef3edf1-19b8-407b-80c6-3c31267c65b6",
   "metadata": {},
   "outputs": [],
   "source": [
    "# Helper flags\n",
    "is_placed = df[\"status\"].eq(\"Placed\")\n",
    "placed = df[is_placed].copy()"
   ]
  },
  {
   "cell_type": "markdown",
   "id": "82905f17-dc39-4cff-889d-d6f6af745db8",
   "metadata": {},
   "source": [
    "## ---------- Q1.3 ----------"
   ]
  },
  {
   "cell_type": "code",
   "execution_count": 10,
   "id": "61a2e234-5c1f-4172-b29f-3c40eaa9a046",
   "metadata": {},
   "outputs": [
    {
     "name": "stdout",
     "output_type": "stream",
     "text": [
      "1.3 ❌ Number of students NOT placed: 67\n",
      "\n"
     ]
    }
   ],
   "source": [
    "not_placed_count = (~is_placed).sum()\n",
    "print(f\"1.3 ❌ Number of students NOT placed: {not_placed_count}\\n\")"
   ]
  },
  {
   "cell_type": "markdown",
   "id": "566b9bc2-53a6-4810-addf-1b4b1c278104",
   "metadata": {},
   "source": [
    "## ---------- Q1.4 ----------"
   ]
  },
  {
   "cell_type": "code",
   "execution_count": 11,
   "id": "fce3d5ab-535e-436c-8e1d-99c82d246527",
   "metadata": {},
   "outputs": [
    {
     "name": "stdout",
     "output_type": "stream",
     "text": [
      "1.4 🔍 Reason for Non-Placement (Score Comparison):\n",
      "\n",
      " Feature  Mean Placed  Mean Not Placed   Diff  Corr(r)  p-value\n",
      "   ssc_p       71.721           57.544 14.177    0.608    0.000\n",
      "   hsc_p       69.837           58.598 11.239    0.493    0.000\n",
      "degree_p       68.724           61.134  7.589    0.481    0.000\n",
      " etest_p       73.238           69.588  3.650    0.128    0.062\n",
      "   mba_p       62.579           61.613  0.967    0.077    0.261\n",
      "\n",
      "👉 Strongest drivers: SSC%, HSC%, Degree% (placed students scored higher).\n",
      "\n"
     ]
    }
   ],
   "source": [
    "print(\"1.4 🔍 Reason for Non-Placement (Score Comparison):\\n\")\n",
    "placed_flag = is_placed.astype(int)\n",
    "features = [\"ssc_p\",\"hsc_p\",\"degree_p\",\"etest_p\",\"mba_p\"]\n",
    "rows = []\n",
    "for c in features:\n",
    "    mean_placed = df.loc[is_placed, c].mean()\n",
    "    mean_not   = df.loc[~is_placed, c].mean()\n",
    "    r, p = stats.pointbiserialr(placed_flag, df[c])\n",
    "    rows.append([c, mean_placed, mean_not, mean_placed-mean_not, r, p])\n",
    "reason_tbl = pd.DataFrame(rows, columns=[\"Feature\",\"Mean Placed\",\"Mean Not Placed\",\"Diff\",\"Corr(r)\",\"p-value\"])\n",
    "print(reason_tbl.round(3).to_string(index=False))\n",
    "print(\"\\n👉 Strongest drivers: SSC%, HSC%, Degree% (placed students scored higher).\\n\")"
   ]
  },
  {
   "cell_type": "markdown",
   "id": "4dfd2f48-546c-421b-bed4-f16b44c0cea7",
   "metadata": {},
   "source": [
    "## ---------- Q1.5 ----------"
   ]
  },
  {
   "cell_type": "code",
   "execution_count": 12,
   "id": "6ee01579-83dd-42ea-a05a-385005b741a7",
   "metadata": {},
   "outputs": [
    {
     "name": "stdout",
     "output_type": "stream",
     "text": [
      "1.5 📈 Salary vs MBA% Correlation: r = 0.189, p = 0.02115\n",
      "👉 Weak positive relation: Higher MBA% → Slightly higher salary.\n",
      "\n"
     ]
    }
   ],
   "source": [
    "s = placed[\"salary\"].dropna()\n",
    "m = placed[\"mba_p\"].dropna()\n",
    "common = s.index.intersection(m.index)\n",
    "r, p = stats.pearsonr(placed.loc[common,\"salary\"], placed.loc[common,\"mba_p\"])\n",
    "print(f\"1.5 📈 Salary vs MBA% Correlation: r = {r:.3f}, p = {p:.5f}\")\n",
    "print(\"👉 Weak positive relation: Higher MBA% → Slightly higher salary.\\n\")"
   ]
  },
  {
   "cell_type": "markdown",
   "id": "eda6cb0e-eb28-4c8b-b457-6996d9599321",
   "metadata": {},
   "source": [
    "## ---------- Q1.6 ----------"
   ]
  },
  {
   "cell_type": "code",
   "execution_count": 13,
   "id": "60bb0122-d3dc-4c94-8160-d0638dac87cc",
   "metadata": {},
   "outputs": [
    {
     "name": "stdout",
     "output_type": "stream",
     "text": [
      "1.6 💼 Minimum Salary by Specialisation:\n",
      "specialisation\n",
      "Mkt&HR     255000.0\n",
      "Mkt&Fin    270000.0\n",
      "👉 Lowest = Mkt&HR with median salary 255000\n",
      "\n"
     ]
    }
   ],
   "source": [
    "med_by_spec = placed.groupby(\"specialisation\")[\"salary\"].median().sort_values()\n",
    "min_spec = med_by_spec.idxmin()\n",
    "print(\"1.6 💼 Minimum Salary by Specialisation:\")\n",
    "print(med_by_spec.to_string())\n",
    "print(f\"👉 Lowest = {min_spec} with median salary {med_by_spec[min_spec]:.0f}\\n\")"
   ]
  },
  {
   "cell_type": "markdown",
   "id": "ce03b567-0967-4d9d-b940-dfaced84c972",
   "metadata": {},
   "source": [
    "## ---------- Q1.7 ----------"
   ]
  },
  {
   "cell_type": "code",
   "execution_count": 14,
   "id": "f5477465-4af6-461a-9271-ce5af3e66b9b",
   "metadata": {},
   "outputs": [
    {
     "name": "stdout",
     "output_type": "stream",
     "text": [
      "1.7 💰 Students with salary > 500000: 3\n",
      "\n"
     ]
    }
   ],
   "source": [
    "cnt_above_500k = (placed[\"salary\"] > 500000).sum()\n",
    "print(f\"1.7 💰 Students with salary > 500000: {cnt_above_500k}\\n\")"
   ]
  },
  {
   "cell_type": "markdown",
   "id": "032fcd53-6491-4677-875a-042ee81bc65f",
   "metadata": {},
   "source": [
    "# ---------- Q1.8 ----------"
   ]
  },
  {
   "cell_type": "code",
   "execution_count": 16,
   "id": "548f2339-96b7-4877-9ee1-6e48324e623e",
   "metadata": {},
   "outputs": [
    {
     "name": "stdout",
     "output_type": "stream",
     "text": [
      "1.8 🧪 ANOVA (etest_p vs mba_p): F=6.785, p=0.00139 → ✅ Significant difference\n",
      "\n"
     ]
    },
    {
     "name": "stderr",
     "output_type": "stream",
     "text": [
      "C:\\Users\\mukil\\AppData\\Local\\Temp\\ipykernel_20856\\2551476359.py:3: FutureWarning: The default of observed=False is deprecated and will be changed to True in a future version of pandas. Pass observed=False to retain current behavior or observed=True to adopt the future default and silence this warning.\n",
      "  groups = [g[\"mba_p\"].values for _, g in valid.groupby(\"etest_group\")]\n"
     ]
    }
   ],
   "source": [
    "\n",
    "valid = df[[\"etest_p\",\"mba_p\"]].dropna()\n",
    "valid[\"etest_group\"] = pd.qcut(valid[\"etest_p\"], 3, labels=[\"Low\",\"Med\",\"High\"])\n",
    "groups = [g[\"mba_p\"].values for _, g in valid.groupby(\"etest_group\")]\n",
    "F, p = stats.f_oneway(*groups)\n",
    "decision = \"✅ Significant difference\" if p < 0.05 else \"❌ No significant difference\"\n",
    "print(f\"1.8 🧪 ANOVA (etest_p vs mba_p): F={F:.3f}, p={p:.5f} → {decision}\\n\")"
   ]
  },
  {
   "cell_type": "markdown",
   "id": "cdf0de50-567c-4529-9655-3be3901c1c00",
   "metadata": {},
   "source": [
    "## ---------- Q1.9 ----------"
   ]
  },
  {
   "cell_type": "code",
   "execution_count": 18,
   "id": "d36c433d-4142-4bd9-8ff9-cdf9ea2b1943",
   "metadata": {},
   "outputs": [
    {
     "name": "stdout",
     "output_type": "stream",
     "text": [
      "1.9 🧪 t-test (Sci&Tech vs Mkt&HR salary): t=2.550, p=0.01341 → ✅ Means differ\n",
      "\n"
     ]
    }
   ],
   "source": [
    "a = placed.loc[placed[\"degree_t\"]==\"Sci&Tech\",\"salary\"].dropna()\n",
    "b = placed.loc[placed[\"specialisation\"]==\"Mkt&HR\",\"salary\"].dropna()\n",
    "t, p = stats.ttest_ind(a, b, equal_var=False)\n",
    "decision = \"✅ Means differ\" if p < 0.05 else \"❌ No difference\"\n",
    "print(f\"1.9 🧪 t-test (Sci&Tech vs Mkt&HR salary): t={t:.3f}, p={p:.5f} → {decision}\\n\")"
   ]
  },
  {
   "cell_type": "markdown",
   "id": "8e77cea0-fc67-4e30-89cd-100e719d8e12",
   "metadata": {},
   "source": [
    "## ---------- Q1.10 ----------"
   ]
  },
  {
   "cell_type": "code",
   "execution_count": 20,
   "id": "f83bd7e8-e1cf-4781-8647-66fe26723f0b",
   "metadata": {},
   "outputs": [
    {
     "name": "stdout",
     "output_type": "stream",
     "text": [
      "1.10 🔄 Standardized Salary (z-score): mean≈287076, std≈83573\n",
      "👉 'salary_z' column created.\n",
      "\n"
     ]
    }
   ],
   "source": [
    "mu, sd = placed[\"salary\"].mean(), placed[\"salary\"].std(ddof=0)\n",
    "placed[\"salary_z\"] = (placed[\"salary\"] - mu) / sd\n",
    "print(f\"1.10 🔄 Standardized Salary (z-score): mean≈{mu:.0f}, std≈{sd:.0f}\")\n",
    "print(\"👉 'salary_z' column created.\\n\")"
   ]
  },
  {
   "cell_type": "markdown",
   "id": "00e978c8-1c8e-416c-bb34-d304a94acdd2",
   "metadata": {},
   "source": [
    "## ---------- Q1.11 ----------"
   ]
  },
  {
   "cell_type": "code",
   "execution_count": 21,
   "id": "a2648587-df4e-4fad-9569-3673107487cd",
   "metadata": {},
   "outputs": [
    {
     "name": "stdout",
     "output_type": "stream",
     "text": [
      "1.11 📊 P(700k–900k) = 0.0000003889\n",
      "PDF@700k = 2.387e-11, PDF@900k = 9.980e-18\n",
      "\n"
     ]
    }
   ],
   "source": [
    "prob_range = stats.norm.cdf(900000, mu, sd) - stats.norm.cdf(700000, mu, sd)\n",
    "pdf_700 = stats.norm.pdf(700000, mu, sd)\n",
    "pdf_900 = stats.norm.pdf(900000, mu, sd)\n",
    "print(f\"1.11 📊 P(700k–900k) = {prob_range:.10f}\")\n",
    "print(f\"PDF@700k = {pdf_700:.3e}, PDF@900k = {pdf_900:.3e}\\n\")"
   ]
  },
  {
   "cell_type": "markdown",
   "id": "58d8c963-29ba-4b04-89f0-7e208a3c1547",
   "metadata": {},
   "source": [
    "# ---------- Q1.12 ----------"
   ]
  },
  {
   "cell_type": "code",
   "execution_count": 23,
   "id": "d5317216-71dc-4a36-8f77-577c8a2ddae1",
   "metadata": {},
   "outputs": [
    {
     "name": "stdout",
     "output_type": "stream",
     "text": [
      "1.12 🧪 etest_p: t=0.139, p=0.88960 → ❌ Similar\n",
      "1.12 🧪 mba_p: t=1.816, p=0.07225 → ❌ Similar\n",
      "\n"
     ]
    }
   ],
   "source": [
    "for var in [\"etest_p\",\"mba_p\"]:\n",
    "    A = df.loc[df[\"degree_t\"]==\"Sci&Tech\", var].dropna()\n",
    "    B = df.loc[df[\"degree_t\"]!=\"Sci&Tech\", var].dropna()\n",
    "    t, p = stats.ttest_ind(A, B, equal_var=False)\n",
    "    decision = \"✅ Different\" if p < 0.05 else \"❌ Similar\"\n",
    "    print(f\"1.12 🧪 {var}: t={t:.3f}, p={p:.5f} → {decision}\")\n",
    "print()"
   ]
  },
  {
   "cell_type": "markdown",
   "id": "4f2deb8f-5d33-46c3-9653-757e9a2a89d4",
   "metadata": {},
   "source": [
    "# ---------- Q1.13 ----------"
   ]
  },
  {
   "cell_type": "code",
   "execution_count": 24,
   "id": "01b2059a-d6d2-46fd-9c89-a25364904a94",
   "metadata": {},
   "outputs": [
    {
     "name": "stdout",
     "output_type": "stream",
     "text": [
      "1.13 🔗 Correlation with Salary:\n",
      "ssc_p       0.063\n",
      "hsc_p       0.068\n",
      "degree_p   -0.009\n",
      "etest_p     0.186\n",
      "mba_p       0.189\n",
      "salary      1.000\n",
      "Name: salary, dtype: float64\n",
      "👉 Most correlated feature: mba_p\n",
      "\n"
     ]
    }
   ],
   "source": [
    "corrs = placed[[\"ssc_p\",\"hsc_p\",\"degree_p\",\"etest_p\",\"mba_p\",\"salary\"]].corr()\n",
    "top_feat = corrs[\"salary\"].drop(\"salary\").abs().idxmax()\n",
    "print(\"1.13 🔗 Correlation with Salary:\")\n",
    "print(corrs[\"salary\"].round(3))\n",
    "print(f\"👉 Most correlated feature: {top_feat}\\n\")"
   ]
  },
  {
   "cell_type": "code",
   "execution_count": 25,
   "id": "91640d73-80ca-4451-991f-39264b3c4ea1",
   "metadata": {},
   "outputs": [],
   "source": [
    "# ---------- Q1.14 ----------"
   ]
  },
  {
   "cell_type": "code",
   "execution_count": 26,
   "id": "17351ab8-80f0-4f08-8983-b4f28692566f",
   "metadata": {},
   "outputs": [
    {
     "name": "stderr",
     "output_type": "stream",
     "text": [
      "C:\\Users\\mukil\\anaconda3\\envs\\aiml\\lib\\site-packages\\IPython\\core\\pylabtools.py:170: UserWarning: Glyph 128202 (\\N{BAR CHART}) missing from font(s) DejaVu Sans.\n",
      "  fig.canvas.print_figure(bytes_io, **kw)\n"
     ]
    },
    {
     "data": {
      "image/png": "[encoded data removed]",
      "text/plain": [
       "<Figure size 600x400 with 1 Axes>"
      ]
     },
     "metadata": {},
     "output_type": "display_data"
    }
   ],
   "source": [
    "plt.figure(figsize=(6,4))\n",
    "plt.scatter(placed[\"mba_p\"], placed[\"salary\"], alpha=0.7)\n",
    "slope, intercept = np.polyfit(placed[\"mba_p\"], placed[\"salary\"], 1)\n",
    "xv = np.linspace(placed[\"mba_p\"].min(), placed[\"mba_p\"].max(), 100)\n",
    "plt.plot(xv, slope*xv+intercept, color=\"red\")\n",
    "plt.xlabel(\"MBA %\")\n",
    "plt.ylabel(\"Salary\")\n",
    "plt.title(\"1.14 📊 Salary vs MBA% (Placed Only)\")\n",
    "plt.show()"
   ]
  }
 ],
 "metadata": {
  "kernelspec": {
   "display_name": "Python 3 (ipykernel)",
   "language": "python",
   "name": "python3"
  },
  "language_info": {
   "codemirror_mode": {
    "name": "ipython",
    "version": 3
   },
   "file_extension": ".py",
   "mimetype": "text/x-python",
   "name": "python",
   "nbconvert_exporter": "python",
   "pygments_lexer": "ipython3",
   "version": "3.10.18"
  }
 },
 "nbformat": 4,
 "nbformat_minor": 5
}
