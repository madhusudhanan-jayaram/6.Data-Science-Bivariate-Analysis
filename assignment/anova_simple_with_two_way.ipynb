{
 "cells": [
  {
   "cell_type": "code",
   "execution_count": 4,
   "id": "8fff3813-efed-494d-9c7a-d9a3c2297ff0",
   "metadata": {},
   "outputs": [],
   "source": [
    "import pandas as pd\n",
    "import statsmodels.api as sm\n",
    "from statsmodels.formula.api import ols"
   ]
  },
  {
   "cell_type": "code",
   "execution_count": 2,
   "id": "558b9045-60aa-47f3-b44d-f0a39d32050e",
   "metadata": {},
   "outputs": [],
   "source": [
    "dataset=pd.read_csv(\"PrePlacement.csv\")"
   ]
  },
  {
   "cell_type": "code",
   "execution_count": 7,
   "id": "5a0fdbdc-531a-40e1-95c9-28c1fbe5ac70",
   "metadata": {},
   "outputs": [],
   "source": [
    "# Example with actual column names from PrePlacement.csv\n",
    "model = ols('salary ~ C(gender) + C(degree_t) + C(gender):C(degree_t)', data=dataset).fit()\n",
    "anova_table = sm.stats.anova_lm(model, typ=2)"
   ]
  },
  {
   "cell_type": "code",
   "execution_count": 8,
   "id": "50c7a943-a9d5-4bc7-a59e-5b2b9ca3ddef",
   "metadata": {},
   "outputs": [
    {
     "name": "stdout",
     "output_type": "stream",
     "text": [
      "                             sum_sq     df         F    PR(>F)\n",
      "C(gender)              7.879048e+10    1.0  3.600750  0.059132\n",
      "C(degree_t)            6.299754e+10    2.0  1.439504  0.239386\n",
      "C(gender):C(degree_t)  1.008857e+11    2.0  2.305254  0.102264\n",
      "Residual               4.573273e+12  209.0       NaN       NaN\n"
     ]
    }
   ],
   "source": [
    "print(anova_table)"
   ]
  },
  {
   "cell_type": "code",
   "execution_count": 9,
   "id": "86510241-7891-43c8-81be-cc9ce3265617",
   "metadata": {},
   "outputs": [
    {
     "name": "stdout",
     "output_type": "stream",
     "text": [
      "C(gender): **Accept Null Hypothesis and Reject Alternate Hypothesis**\n",
      "C(degree_t): **Accept Null Hypothesis and Reject Alternate Hypothesis**\n",
      "C(gender):C(degree_t): **Accept Null Hypothesis and Reject Alternate Hypothesis**\n"
     ]
    }
   ],
   "source": [
    "alpha = 0.05\n",
    "for effect, row in anova_table.iterrows():\n",
    "    if effect.lower() == \"residual\":\n",
    "        continue\n",
    "    p = row['PR(>F)']\n",
    "    if p < alpha:\n",
    "        print(f\"{effect}: **Reject Null Hypothesis p<{alpha}**\")\n",
    "    else:\n",
    "        print(f\"{effect}: **Accept Null Hypothesis and Reject Alternate Hypothesis**\")"
   ]
  },
  {
   "cell_type": "code",
   "execution_count": null,
   "id": "5c1c2b30-3712-4ee7-9b5d-7cabff78f11c",
   "metadata": {},
   "outputs": [],
   "source": []
  }
 ],
 "metadata": {
  "kernelspec": {
   "display_name": "Python 3 (ipykernel)",
   "language": "python",
   "name": "python3"
  },
  "language_info": {
   "codemirror_mode": {
    "name": "ipython",
    "version": 3
   },
   "file_extension": ".py",
   "mimetype": "text/x-python",
   "name": "python",
   "nbconvert_exporter": "python",
   "pygments_lexer": "ipython3",
   "version": "3.10.18"
  }
 },
 "nbformat": 4,
 "nbformat_minor": 5
}
