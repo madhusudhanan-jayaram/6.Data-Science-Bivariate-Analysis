{
 "cells": [
  {
   "cell_type": "code",
   "execution_count": 5,
   "id": "8fff3813-efed-494d-9c7a-d9a3c2297ff0",
   "metadata": {},
   "outputs": [],
   "source": [
    "from scipy.stats import ttest_rel\n",
    "import pandas as pd"
   ]
  },
  {
   "cell_type": "code",
   "execution_count": 2,
   "id": "558b9045-60aa-47f3-b44d-f0a39d32050e",
   "metadata": {},
   "outputs": [],
   "source": [
    "dataset=pd.read_csv(\"PrePlacement.csv\")"
   ]
  },
  {
   "cell_type": "code",
   "execution_count": 6,
   "id": "42d62b12-0e75-480d-aaae-cd33ec4f43a3",
   "metadata": {},
   "outputs": [],
   "source": [
    "dataset = dataset.dropna(subset=[\"ssc_p\", \"hsc_p\", \"gender\"])"
   ]
  },
  {
   "cell_type": "code",
   "execution_count": 7,
   "id": "869f99ed-3f4e-4adf-8945-e0cb5ae101b1",
   "metadata": {},
   "outputs": [],
   "source": [
    "# Select male students\n",
    "male_ssc = dataset[dataset['gender'] == 'M']['ssc_p']\n",
    "male_hsc = dataset[dataset['gender'] == 'M']['hsc_p']"
   ]
  },
  {
   "cell_type": "code",
   "execution_count": 8,
   "id": "1791065c-8c2a-4545-b917-6b6044f68650",
   "metadata": {},
   "outputs": [],
   "source": [
    "# Perform paired t-test\n",
    "t_stat, p_val = ttest_rel(male_ssc, male_hsc)"
   ]
  },
  {
   "cell_type": "code",
   "execution_count": 14,
   "id": "b4a470fd-b4dd-426d-ab53-fc6424829cbf",
   "metadata": {},
   "outputs": [
    {
     "name": "stdout",
     "output_type": "stream",
     "text": [
      "\n",
      "============================================================\n",
      "        📊 Paired t-test: Male Students (SSC% vs HSC%)\n",
      "============================================================\n",
      "**T-statistic:** 0.6843\n",
      "**P-value    :** 0.494937\n",
      "**Alpha      :** 0.05\n",
      "------------------------------------------------------------\n",
      "✅ **Accept Null Hypothesis (p ≥ 0.05)**\n",
      "➡️  **Reject Alternate Hypothesis** — No significant difference between SSC% and HSC% for male students.\n",
      "============================================================\n",
      "\n"
     ]
    }
   ],
   "source": [
    "print(\"\\n\" + \"=\"*60)\n",
    "print(\"        📊 Paired t-test: Male Students (SSC% vs HSC%)\")\n",
    "print(\"=\"*60)\n",
    "print(f\"**T-statistic:** {t_stat:.4f}\")\n",
    "print(f\"**P-value    :** {p_val:.6g}\")\n",
    "print(f\"**Alpha      :** {alpha}\")\n",
    "print(\"-\"*60)\n",
    "# Hypothesis decision\n",
    "if p_val < alpha:\n",
    "    print(\"✅ **Reject Null Hypothesis (p < 0.05)**\")\n",
    "    print(\"➡️  There is a **significant difference** between SSC% and HSC% for male students.\")\n",
    "else:\n",
    "    print(\"✅ **Accept Null Hypothesis (p ≥ 0.05)**\")\n",
    "    print(\"➡️  **Reject Alternate Hypothesis** — No significant difference between SSC% and HSC% for male students.\")\n",
    "\n",
    "print(\"=\"*60 + \"\\n\")"
   ]
  },
  {
   "cell_type": "code",
   "execution_count": null,
   "id": "5a0fdbdc-531a-40e1-95c9-28c1fbe5ac70",
   "metadata": {},
   "outputs": [],
   "source": []
  }
 ],
 "metadata": {
  "kernelspec": {
   "display_name": "Python 3 (ipykernel)",
   "language": "python",
   "name": "python3"
  },
  "language_info": {
   "codemirror_mode": {
    "name": "ipython",
    "version": 3
   },
   "file_extension": ".py",
   "mimetype": "text/x-python",
   "name": "python",
   "nbconvert_exporter": "python",
   "pygments_lexer": "ipython3",
   "version": "3.10.18"
  }
 },
 "nbformat": 4,
 "nbformat_minor": 5
}
